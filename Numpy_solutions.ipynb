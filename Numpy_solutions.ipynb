{
 "cells": [
  {
   "cell_type": "code",
   "execution_count": 3,
   "id": "41ae6346",
   "metadata": {},
   "outputs": [],
   "source": [
    "# 1\n",
    "import numpy  as np"
   ]
  },
  {
   "cell_type": "code",
   "execution_count": 5,
   "id": "8cd7f279",
   "metadata": {},
   "outputs": [
    {
     "name": "stdout",
     "output_type": "stream",
     "text": [
      "[0. 0. 0. 0. 0. 0. 0. 0. 0. 0.]\n",
      "[1. 1. 1. 1. 1. 1. 1. 1. 1. 1.]\n",
      "[5. 5. 5. 5. 5. 5. 5. 5. 5. 5.]\n"
     ]
    }
   ],
   "source": [
    "# 2\n",
    "a = np.zeros (10)\n",
    "print (a)\n",
    "# 3\n",
    "a = np.ones (10)\n",
    "print (a)\n",
    "# 4\n",
    "a = a*5\n",
    "print (a)"
   ]
  },
  {
   "cell_type": "code",
   "execution_count": 9,
   "id": "c3a53777",
   "metadata": {},
   "outputs": [
    {
     "name": "stdout",
     "output_type": "stream",
     "text": [
      "[10 11 12 13 14 15 16 17 18 19 20 21 22 23 24 25 26 27 28 29 30 31 32 33\n",
      " 34 35 36 37 38 39 40 41 42 43 44 45 46 47 48 49 50]\n"
     ]
    }
   ],
   "source": [
    "# 5\n",
    "b = np.arange (10,51)\n",
    "print (b)"
   ]
  },
  {
   "cell_type": "code",
   "execution_count": 10,
   "id": "cb410019",
   "metadata": {},
   "outputs": [
    {
     "name": "stdout",
     "output_type": "stream",
     "text": [
      "[10 12 14 16 18 20 22 24 26 28 30 32 34 36 38 40 42 44 46 48 50]\n"
     ]
    }
   ],
   "source": [
    "# 6\n",
    "c = np.arange (10,51,2)\n",
    "print (c)"
   ]
  },
  {
   "cell_type": "code",
   "execution_count": 14,
   "id": "189a0492",
   "metadata": {},
   "outputs": [
    {
     "name": "stdout",
     "output_type": "stream",
     "text": [
      "[[0 1 2]\n",
      " [3 4 5]\n",
      " [6 7 8]]\n"
     ]
    }
   ],
   "source": [
    "# 7\n",
    "m = np.arange (0,9)\n",
    "m = m.reshape (3,3)\n",
    "print (m)"
   ]
  },
  {
   "cell_type": "code",
   "execution_count": 13,
   "id": "2a6a7610",
   "metadata": {},
   "outputs": [
    {
     "name": "stdout",
     "output_type": "stream",
     "text": [
      "[[1. 0. 0.]\n",
      " [0. 1. 0.]\n",
      " [0. 0. 1.]]\n"
     ]
    }
   ],
   "source": [
    "# 8\n",
    "m = np.zeros (9)\n",
    "m = m.reshape (3,3)\n",
    "for i in range (3):\n",
    "    for j in range (4):\n",
    "        if i ==j:\n",
    "            m[i, j] = 1.0\n",
    "print (m)"
   ]
  },
  {
   "cell_type": "code",
   "execution_count": 28,
   "id": "f49f0bde",
   "metadata": {},
   "outputs": [
    {
     "name": "stdout",
     "output_type": "stream",
     "text": [
      "[7.20324493e-01 1.14374817e-04 3.02332573e-01 1.46755891e-01\n",
      " 9.23385948e-02]\n"
     ]
    }
   ],
   "source": [
    "# 9\n",
    "r = np.random.rand(1)\n",
    "print(r)"
   ]
  },
  {
   "cell_type": "code",
   "execution_count": 36,
   "id": "e63e891f",
   "metadata": {},
   "outputs": [
    {
     "name": "stdout",
     "output_type": "stream",
     "text": [
      "[  -8.1973299   192.38203876   34.07971297  115.19425194 -111.95951593\n",
      "  -84.00523772   97.08200041  -20.74181751   16.85148844   88.34182345\n",
      "  -10.13833707 -102.80387645  -99.94798268 -104.82565619   66.62840788\n",
      "   -5.24915933 -172.8654295    11.31629964  -61.16668477   28.5718044\n",
      " -108.06748867  -59.99852539   31.64123796  170.18261276  -73.79537415]\n"
     ]
    }
   ],
   "source": [
    "# 10\n",
    "ra = np.random.normal(1, 100, 25)\n",
    "print (ra)"
   ]
  },
  {
   "cell_type": "code",
   "execution_count": 34,
   "id": "7d570b5b",
   "metadata": {},
   "outputs": [
    {
     "name": "stdout",
     "output_type": "stream",
     "text": [
      "[[0.01 0.02 0.03 0.04 0.05 0.06 0.07 0.08 0.09 0.1 ]\n",
      " [0.11 0.12 0.13 0.14 0.15 0.16 0.17 0.18 0.19 0.2 ]\n",
      " [0.21 0.22 0.23 0.24 0.25 0.26 0.27 0.28 0.29 0.3 ]\n",
      " [0.31 0.32 0.33 0.34 0.35 0.36 0.37 0.38 0.39 0.4 ]\n",
      " [0.41 0.42 0.43 0.44 0.45 0.46 0.47 0.48 0.49 0.5 ]\n",
      " [0.51 0.52 0.53 0.54 0.55 0.56 0.57 0.58 0.59 0.6 ]\n",
      " [0.61 0.62 0.63 0.64 0.65 0.66 0.67 0.68 0.69 0.7 ]\n",
      " [0.71 0.72 0.73 0.74 0.75 0.76 0.77 0.78 0.79 0.8 ]\n",
      " [0.81 0.82 0.83 0.84 0.85 0.86 0.87 0.88 0.89 0.9 ]\n",
      " [0.91 0.92 0.93 0.94 0.95 0.96 0.97 0.98 0.99 1.  ]]\n"
     ]
    }
   ],
   "source": [
    "# 11\n",
    "a = np.arange (0.01, 1.01, 0.01)\n",
    "a = a.reshape (10,10)\n",
    "print (a)"
   ]
  },
  {
   "cell_type": "code",
   "execution_count": 37,
   "id": "a216b06c",
   "metadata": {},
   "outputs": [
    {
     "name": "stdout",
     "output_type": "stream",
     "text": [
      "[0.         0.05263158 0.10526316 0.15789474 0.21052632 0.26315789\n",
      " 0.31578947 0.36842105 0.42105263 0.47368421 0.52631579 0.57894737\n",
      " 0.63157895 0.68421053 0.73684211 0.78947368 0.84210526 0.89473684\n",
      " 0.94736842 1.        ]\n"
     ]
    }
   ],
   "source": [
    "# 12\n",
    "a = np.linspace (0, 1, 20)\n",
    "print (a)"
   ]
  },
  {
   "cell_type": "code",
   "execution_count": 17,
   "id": "618c801e",
   "metadata": {},
   "outputs": [
    {
     "name": "stdout",
     "output_type": "stream",
     "text": [
      "[[ 1  2  3  4  5]\n",
      " [ 6  7  8  9 10]\n",
      " [11 12 13 14 15]\n",
      " [16 17 18 19 20]\n",
      " [21 22 23 24 25]]\n",
      "[[12 13 14 15]\n",
      " [17 18 19 20]\n",
      " [22 23 24 25]]\n"
     ]
    }
   ],
   "source": [
    "# 13\n",
    "mat = np.arange(1,26).reshape(5,5)\n",
    "print (mat)\n",
    "print (mat[2:,1:])"
   ]
  },
  {
   "cell_type": "code",
   "execution_count": 16,
   "id": "aea7f87a",
   "metadata": {},
   "outputs": [
    {
     "name": "stdout",
     "output_type": "stream",
     "text": [
      "[20]\n"
     ]
    }
   ],
   "source": [
    "# 14\n",
    "print (mat[3,4:])"
   ]
  },
  {
   "cell_type": "code",
   "execution_count": 26,
   "id": "e6d7537e",
   "metadata": {},
   "outputs": [
    {
     "name": "stdout",
     "output_type": "stream",
     "text": [
      "[[ 2]\n",
      " [ 7]\n",
      " [12]]\n"
     ]
    }
   ],
   "source": [
    "# 15\n",
    "print (mat[:3, [1]])"
   ]
  },
  {
   "cell_type": "code",
   "execution_count": 20,
   "id": "a00215eb",
   "metadata": {},
   "outputs": [
    {
     "name": "stdout",
     "output_type": "stream",
     "text": [
      "[21 22 23 24 25]\n"
     ]
    }
   ],
   "source": [
    "# 16\n",
    "print (mat[-1,:])"
   ]
  },
  {
   "cell_type": "code",
   "execution_count": 21,
   "id": "d95c97dc",
   "metadata": {},
   "outputs": [
    {
     "name": "stdout",
     "output_type": "stream",
     "text": [
      "[[16 17 18 19 20]\n",
      " [21 22 23 24 25]]\n"
     ]
    }
   ],
   "source": [
    "# 17\n",
    "print (mat[-2:,:])"
   ]
  },
  {
   "cell_type": "code",
   "execution_count": 22,
   "id": "f1e8a070",
   "metadata": {},
   "outputs": [
    {
     "name": "stdout",
     "output_type": "stream",
     "text": [
      "325\n"
     ]
    }
   ],
   "source": [
    "# 18\n",
    "print(mat.sum())"
   ]
  },
  {
   "cell_type": "code",
   "execution_count": 27,
   "id": "7bdee302",
   "metadata": {},
   "outputs": [
    {
     "name": "stdout",
     "output_type": "stream",
     "text": [
      "325\n"
     ]
    }
   ],
   "source": [
    "# 19\n",
    "print(mat.sum())"
   ]
  },
  {
   "cell_type": "code",
   "execution_count": 32,
   "id": "2d29ba04",
   "metadata": {},
   "outputs": [
    {
     "name": "stdout",
     "output_type": "stream",
     "text": [
      "[55 60 65 70 75]\n"
     ]
    }
   ],
   "source": [
    "# 20\n",
    "answer = np.arange(5)\n",
    "for i in range (5):\n",
    "    answer [i] = mat[:, i].sum()\n",
    "print (answer)"
   ]
  },
  {
   "cell_type": "markdown",
   "id": "ee86faa5",
   "metadata": {},
   "source": []
  }
 ],
 "metadata": {
  "kernelspec": {
   "display_name": "Python 3",
   "language": "python",
   "name": "python3"
  },
  "language_info": {
   "codemirror_mode": {
    "name": "ipython",
    "version": 3
   },
   "file_extension": ".py",
   "mimetype": "text/x-python",
   "name": "python",
   "nbconvert_exporter": "python",
   "pygments_lexer": "ipython3",
   "version": "3.8.8"
  }
 },
 "nbformat": 4,
 "nbformat_minor": 5
}
